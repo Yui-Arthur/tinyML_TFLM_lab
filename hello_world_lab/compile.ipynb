{
  "nbformat": 4,
  "nbformat_minor": 0,
  "metadata": {
    "colab": {
      "provenance": []
    },
    "kernelspec": {
      "name": "python3",
      "display_name": "Python 3"
    },
    "language_info": {
      "name": "python"
    }
  },
  "cells": [
    {
      "cell_type": "markdown",
      "source": [
        "# train ([tflm-hello-world](https://github.com/tensorflow/tflite-micro/tree/main/tensorflow/lite/micro/examples/hello_world))\n"
      ],
      "metadata": {
        "id": "hjTsHC032GkL"
      }
    },
    {
      "cell_type": "code",
      "execution_count": null,
      "metadata": {
        "id": "h-SGNsgx1xXP"
      },
      "outputs": [],
      "source": [
        "import math\n",
        "import os\n",
        "\n",
        "from absl import app\n",
        "from absl import flags\n",
        "from absl import logging\n",
        "import numpy as np\n",
        "import tensorflow as tf\n",
        "\n",
        "def get_data():\n",
        "\n",
        "  x_values = np.random.uniform(low=0, high=2 * math.pi,size=1000).astype(np.float32)\n",
        "\n",
        "  np.random.shuffle(x_values)\n",
        "\n",
        "  y_values = np.sin(x_values).astype(np.float32)\n",
        "\n",
        "  return (x_values, y_values)"
      ]
    },
    {
      "cell_type": "code",
      "source": [
        "def create_model() -> tf.keras.Model:\n",
        "  model = tf.keras.Sequential()\n",
        "  model.add(tf.keras.layers.Dense(16, activation='relu', input_shape=(1, )))\n",
        "\n",
        "  model.add(tf.keras.layers.Dense(16, activation='relu'))\n",
        "\n",
        "  model.add(tf.keras.layers.Dense(1))\n",
        "\n",
        "  model.compile(optimizer='adam', loss='mse', metrics=['mae'])\n",
        "\n",
        "  return model"
      ],
      "metadata": {
        "id": "zaLmPgvv2ZgC"
      },
      "execution_count": null,
      "outputs": []
    },
    {
      "cell_type": "code",
      "source": [
        "def convert_tflite_model(model):\n",
        "\n",
        "  converter = tf.lite.TFLiteConverter.from_keras_model(model)\n",
        "  tflite_model = converter.convert()\n",
        "  return tflite_model\n"
      ],
      "metadata": {
        "id": "MBhkRBQ02qNB"
      },
      "execution_count": null,
      "outputs": []
    },
    {
      "cell_type": "code",
      "source": [
        "def save_tflite_model(tflite_model, save_dir, model_name):\n",
        "\n",
        "  if not os.path.exists(save_dir):\n",
        "    os.makedirs(save_dir)\n",
        "  save_path = os.path.join(save_dir, model_name)\n",
        "  with open(save_path, \"wb\") as f:\n",
        "    f.write(tflite_model)\n",
        "  logging.info(\"Tflite model saved to %s\", save_dir)"
      ],
      "metadata": {
        "id": "AhtNNKLN2zTw"
      },
      "execution_count": null,
      "outputs": []
    },
    {
      "cell_type": "code",
      "source": [
        "def train_model(epochs, x_values, y_values):\n",
        "\n",
        "  model = create_model()\n",
        "  model.fit(x_values,\n",
        "            y_values,\n",
        "            epochs=epochs,\n",
        "            validation_split=0.2,\n",
        "            batch_size=64,\n",
        "            verbose=2)\n",
        "\n",
        "  return model"
      ],
      "metadata": {
        "id": "KJb1ZpfW24_-"
      },
      "execution_count": null,
      "outputs": []
    },
    {
      "cell_type": "code",
      "source": [
        "x_values, y_values = get_data()\n",
        "trained_model = train_model(100, x_values, y_values)\n",
        "\n",
        "  # Convert and save the model to .tflite\n",
        "tflite_model = convert_tflite_model(trained_model)\n",
        "save_tflite_model(tflite_model,\n",
        "                  \"./\",\n",
        "                    model_name=\"hello_world_float.tflite\")"
      ],
      "metadata": {
        "colab": {
          "base_uri": "https://localhost:8080/"
        },
        "id": "sbaqKWrR3BUg",
        "outputId": "5d8f32fd-8f00-4070-e3f6-3fa8b1339ce6"
      },
      "execution_count": null,
      "outputs": [
        {
          "output_type": "stream",
          "name": "stdout",
          "text": [
            "Epoch 1/100\n",
            "13/13 - 1s - loss: 1.4937 - mae: 1.0146 - val_loss: 1.2403 - val_mae: 0.9566 - 984ms/epoch - 76ms/step\n",
            "Epoch 2/100\n",
            "13/13 - 0s - loss: 0.9198 - mae: 0.8404 - val_loss: 0.7898 - val_mae: 0.7999 - 74ms/epoch - 6ms/step\n",
            "Epoch 3/100\n",
            "13/13 - 0s - loss: 0.6321 - mae: 0.7148 - val_loss: 0.5727 - val_mae: 0.6877 - 80ms/epoch - 6ms/step\n",
            "Epoch 4/100\n",
            "13/13 - 0s - loss: 0.4899 - mae: 0.6238 - val_loss: 0.4929 - val_mae: 0.6277 - 84ms/epoch - 6ms/step\n",
            "Epoch 5/100\n",
            "13/13 - 0s - loss: 0.4340 - mae: 0.5743 - val_loss: 0.4412 - val_mae: 0.5881 - 87ms/epoch - 7ms/step\n",
            "Epoch 6/100\n",
            "13/13 - 0s - loss: 0.3893 - mae: 0.5378 - val_loss: 0.3865 - val_mae: 0.5501 - 70ms/epoch - 5ms/step\n",
            "Epoch 7/100\n",
            "13/13 - 0s - loss: 0.3398 - mae: 0.5033 - val_loss: 0.3527 - val_mae: 0.5269 - 70ms/epoch - 5ms/step\n",
            "Epoch 8/100\n",
            "13/13 - 0s - loss: 0.3110 - mae: 0.4812 - val_loss: 0.3210 - val_mae: 0.5009 - 81ms/epoch - 6ms/step\n",
            "Epoch 9/100\n",
            "13/13 - 0s - loss: 0.2840 - mae: 0.4581 - val_loss: 0.2963 - val_mae: 0.4820 - 82ms/epoch - 6ms/step\n",
            "Epoch 10/100\n",
            "13/13 - 0s - loss: 0.2615 - mae: 0.4419 - val_loss: 0.2726 - val_mae: 0.4622 - 81ms/epoch - 6ms/step\n",
            "Epoch 11/100\n",
            "13/13 - 0s - loss: 0.2422 - mae: 0.4271 - val_loss: 0.2521 - val_mae: 0.4455 - 86ms/epoch - 7ms/step\n",
            "Epoch 12/100\n",
            "13/13 - 0s - loss: 0.2251 - mae: 0.4129 - val_loss: 0.2343 - val_mae: 0.4302 - 71ms/epoch - 5ms/step\n",
            "Epoch 13/100\n",
            "13/13 - 0s - loss: 0.2116 - mae: 0.4027 - val_loss: 0.2196 - val_mae: 0.4175 - 71ms/epoch - 5ms/step\n",
            "Epoch 14/100\n",
            "13/13 - 0s - loss: 0.1982 - mae: 0.3910 - val_loss: 0.2063 - val_mae: 0.4061 - 68ms/epoch - 5ms/step\n",
            "Epoch 15/100\n",
            "13/13 - 0s - loss: 0.1885 - mae: 0.3819 - val_loss: 0.1963 - val_mae: 0.3966 - 74ms/epoch - 6ms/step\n",
            "Epoch 16/100\n",
            "13/13 - 0s - loss: 0.1809 - mae: 0.3754 - val_loss: 0.1876 - val_mae: 0.3887 - 83ms/epoch - 6ms/step\n",
            "Epoch 17/100\n",
            "13/13 - 0s - loss: 0.1744 - mae: 0.3676 - val_loss: 0.1812 - val_mae: 0.3828 - 84ms/epoch - 6ms/step\n",
            "Epoch 18/100\n",
            "13/13 - 0s - loss: 0.1698 - mae: 0.3636 - val_loss: 0.1748 - val_mae: 0.3761 - 88ms/epoch - 7ms/step\n",
            "Epoch 19/100\n",
            "13/13 - 0s - loss: 0.1661 - mae: 0.3583 - val_loss: 0.1700 - val_mae: 0.3708 - 71ms/epoch - 5ms/step\n",
            "Epoch 20/100\n",
            "13/13 - 0s - loss: 0.1626 - mae: 0.3565 - val_loss: 0.1662 - val_mae: 0.3665 - 71ms/epoch - 5ms/step\n",
            "Epoch 21/100\n",
            "13/13 - 0s - loss: 0.1584 - mae: 0.3505 - val_loss: 0.1610 - val_mae: 0.3601 - 74ms/epoch - 6ms/step\n",
            "Epoch 22/100\n",
            "13/13 - 0s - loss: 0.1529 - mae: 0.3453 - val_loss: 0.1566 - val_mae: 0.3553 - 84ms/epoch - 6ms/step\n",
            "Epoch 23/100\n",
            "13/13 - 0s - loss: 0.1484 - mae: 0.3390 - val_loss: 0.1520 - val_mae: 0.3496 - 75ms/epoch - 6ms/step\n",
            "Epoch 24/100\n",
            "13/13 - 0s - loss: 0.1441 - mae: 0.3356 - val_loss: 0.1477 - val_mae: 0.3446 - 78ms/epoch - 6ms/step\n",
            "Epoch 25/100\n",
            "13/13 - 0s - loss: 0.1384 - mae: 0.3281 - val_loss: 0.1419 - val_mae: 0.3376 - 64ms/epoch - 5ms/step\n",
            "Epoch 26/100\n",
            "13/13 - 0s - loss: 0.1327 - mae: 0.3217 - val_loss: 0.1365 - val_mae: 0.3308 - 69ms/epoch - 5ms/step\n",
            "Epoch 27/100\n",
            "13/13 - 0s - loss: 0.1265 - mae: 0.3140 - val_loss: 0.1306 - val_mae: 0.3230 - 77ms/epoch - 6ms/step\n",
            "Epoch 28/100\n",
            "13/13 - 0s - loss: 0.1204 - mae: 0.3055 - val_loss: 0.1249 - val_mae: 0.3151 - 76ms/epoch - 6ms/step\n",
            "Epoch 29/100\n",
            "13/13 - 0s - loss: 0.1156 - mae: 0.2995 - val_loss: 0.1212 - val_mae: 0.3098 - 75ms/epoch - 6ms/step\n",
            "Epoch 30/100\n",
            "13/13 - 0s - loss: 0.1112 - mae: 0.2928 - val_loss: 0.1171 - val_mae: 0.3039 - 89ms/epoch - 7ms/step\n",
            "Epoch 31/100\n",
            "13/13 - 0s - loss: 0.1070 - mae: 0.2871 - val_loss: 0.1133 - val_mae: 0.2985 - 73ms/epoch - 6ms/step\n",
            "Epoch 32/100\n",
            "13/13 - 0s - loss: 0.1032 - mae: 0.2816 - val_loss: 0.1101 - val_mae: 0.2934 - 79ms/epoch - 6ms/step\n",
            "Epoch 33/100\n",
            "13/13 - 0s - loss: 0.0996 - mae: 0.2759 - val_loss: 0.1067 - val_mae: 0.2880 - 65ms/epoch - 5ms/step\n",
            "Epoch 34/100\n",
            "13/13 - 0s - loss: 0.0960 - mae: 0.2697 - val_loss: 0.1035 - val_mae: 0.2818 - 68ms/epoch - 5ms/step\n",
            "Epoch 35/100\n",
            "13/13 - 0s - loss: 0.0927 - mae: 0.2641 - val_loss: 0.1006 - val_mae: 0.2773 - 83ms/epoch - 6ms/step\n",
            "Epoch 36/100\n",
            "13/13 - 0s - loss: 0.0895 - mae: 0.2587 - val_loss: 0.0980 - val_mae: 0.2722 - 74ms/epoch - 6ms/step\n",
            "Epoch 37/100\n",
            "13/13 - 0s - loss: 0.0864 - mae: 0.2530 - val_loss: 0.0951 - val_mae: 0.2661 - 49ms/epoch - 4ms/step\n",
            "Epoch 38/100\n",
            "13/13 - 0s - loss: 0.0836 - mae: 0.2474 - val_loss: 0.0928 - val_mae: 0.2617 - 47ms/epoch - 4ms/step\n",
            "Epoch 39/100\n",
            "13/13 - 0s - loss: 0.0812 - mae: 0.2422 - val_loss: 0.0903 - val_mae: 0.2559 - 46ms/epoch - 4ms/step\n",
            "Epoch 40/100\n",
            "13/13 - 0s - loss: 0.0785 - mae: 0.2365 - val_loss: 0.0889 - val_mae: 0.2525 - 47ms/epoch - 4ms/step\n",
            "Epoch 41/100\n",
            "13/13 - 0s - loss: 0.0764 - mae: 0.2319 - val_loss: 0.0864 - val_mae: 0.2470 - 46ms/epoch - 4ms/step\n",
            "Epoch 42/100\n",
            "13/13 - 0s - loss: 0.0742 - mae: 0.2271 - val_loss: 0.0851 - val_mae: 0.2440 - 52ms/epoch - 4ms/step\n",
            "Epoch 43/100\n",
            "13/13 - 0s - loss: 0.0722 - mae: 0.2226 - val_loss: 0.0828 - val_mae: 0.2386 - 63ms/epoch - 5ms/step\n",
            "Epoch 44/100\n",
            "13/13 - 0s - loss: 0.0707 - mae: 0.2177 - val_loss: 0.0814 - val_mae: 0.2328 - 61ms/epoch - 5ms/step\n",
            "Epoch 45/100\n",
            "13/13 - 0s - loss: 0.0685 - mae: 0.2124 - val_loss: 0.0797 - val_mae: 0.2293 - 66ms/epoch - 5ms/step\n",
            "Epoch 46/100\n",
            "13/13 - 0s - loss: 0.0671 - mae: 0.2091 - val_loss: 0.0789 - val_mae: 0.2278 - 54ms/epoch - 4ms/step\n",
            "Epoch 47/100\n",
            "13/13 - 0s - loss: 0.0659 - mae: 0.2049 - val_loss: 0.0777 - val_mae: 0.2220 - 48ms/epoch - 4ms/step\n",
            "Epoch 48/100\n",
            "13/13 - 0s - loss: 0.0642 - mae: 0.2001 - val_loss: 0.0762 - val_mae: 0.2177 - 63ms/epoch - 5ms/step\n",
            "Epoch 49/100\n",
            "13/13 - 0s - loss: 0.0631 - mae: 0.1972 - val_loss: 0.0753 - val_mae: 0.2159 - 62ms/epoch - 5ms/step\n",
            "Epoch 50/100\n",
            "13/13 - 0s - loss: 0.0619 - mae: 0.1925 - val_loss: 0.0741 - val_mae: 0.2094 - 63ms/epoch - 5ms/step\n",
            "Epoch 51/100\n",
            "13/13 - 0s - loss: 0.0599 - mae: 0.1873 - val_loss: 0.0709 - val_mae: 0.2061 - 63ms/epoch - 5ms/step\n",
            "Epoch 52/100\n",
            "13/13 - 0s - loss: 0.0572 - mae: 0.1833 - val_loss: 0.0690 - val_mae: 0.2017 - 64ms/epoch - 5ms/step\n",
            "Epoch 53/100\n",
            "13/13 - 0s - loss: 0.0561 - mae: 0.1791 - val_loss: 0.0687 - val_mae: 0.2000 - 53ms/epoch - 4ms/step\n",
            "Epoch 54/100\n",
            "13/13 - 0s - loss: 0.0551 - mae: 0.1759 - val_loss: 0.0672 - val_mae: 0.1937 - 47ms/epoch - 4ms/step\n",
            "Epoch 55/100\n",
            "13/13 - 0s - loss: 0.0542 - mae: 0.1725 - val_loss: 0.0667 - val_mae: 0.1927 - 47ms/epoch - 4ms/step\n",
            "Epoch 56/100\n",
            "13/13 - 0s - loss: 0.0534 - mae: 0.1694 - val_loss: 0.0660 - val_mae: 0.1891 - 47ms/epoch - 4ms/step\n",
            "Epoch 57/100\n",
            "13/13 - 0s - loss: 0.0526 - mae: 0.1675 - val_loss: 0.0653 - val_mae: 0.1883 - 61ms/epoch - 5ms/step\n",
            "Epoch 58/100\n",
            "13/13 - 0s - loss: 0.0520 - mae: 0.1667 - val_loss: 0.0648 - val_mae: 0.1878 - 45ms/epoch - 3ms/step\n",
            "Epoch 59/100\n",
            "13/13 - 0s - loss: 0.0512 - mae: 0.1639 - val_loss: 0.0643 - val_mae: 0.1853 - 47ms/epoch - 4ms/step\n",
            "Epoch 60/100\n",
            "13/13 - 0s - loss: 0.0507 - mae: 0.1614 - val_loss: 0.0637 - val_mae: 0.1816 - 49ms/epoch - 4ms/step\n",
            "Epoch 61/100\n",
            "13/13 - 0s - loss: 0.0500 - mae: 0.1592 - val_loss: 0.0633 - val_mae: 0.1832 - 47ms/epoch - 4ms/step\n",
            "Epoch 62/100\n",
            "13/13 - 0s - loss: 0.0496 - mae: 0.1591 - val_loss: 0.0625 - val_mae: 0.1813 - 64ms/epoch - 5ms/step\n",
            "Epoch 63/100\n",
            "13/13 - 0s - loss: 0.0490 - mae: 0.1571 - val_loss: 0.0622 - val_mae: 0.1797 - 52ms/epoch - 4ms/step\n",
            "Epoch 64/100\n",
            "13/13 - 0s - loss: 0.0485 - mae: 0.1548 - val_loss: 0.0619 - val_mae: 0.1781 - 50ms/epoch - 4ms/step\n",
            "Epoch 65/100\n",
            "13/13 - 0s - loss: 0.0480 - mae: 0.1534 - val_loss: 0.0612 - val_mae: 0.1778 - 66ms/epoch - 5ms/step\n",
            "Epoch 66/100\n",
            "13/13 - 0s - loss: 0.0478 - mae: 0.1523 - val_loss: 0.0609 - val_mae: 0.1767 - 65ms/epoch - 5ms/step\n",
            "Epoch 67/100\n",
            "13/13 - 0s - loss: 0.0471 - mae: 0.1513 - val_loss: 0.0603 - val_mae: 0.1762 - 63ms/epoch - 5ms/step\n",
            "Epoch 68/100\n",
            "13/13 - 0s - loss: 0.0468 - mae: 0.1513 - val_loss: 0.0599 - val_mae: 0.1769 - 63ms/epoch - 5ms/step\n",
            "Epoch 69/100\n",
            "13/13 - 0s - loss: 0.0463 - mae: 0.1497 - val_loss: 0.0594 - val_mae: 0.1739 - 48ms/epoch - 4ms/step\n",
            "Epoch 70/100\n",
            "13/13 - 0s - loss: 0.0458 - mae: 0.1483 - val_loss: 0.0591 - val_mae: 0.1743 - 50ms/epoch - 4ms/step\n",
            "Epoch 71/100\n",
            "13/13 - 0s - loss: 0.0454 - mae: 0.1464 - val_loss: 0.0585 - val_mae: 0.1718 - 46ms/epoch - 4ms/step\n",
            "Epoch 72/100\n",
            "13/13 - 0s - loss: 0.0450 - mae: 0.1460 - val_loss: 0.0583 - val_mae: 0.1738 - 46ms/epoch - 4ms/step\n",
            "Epoch 73/100\n",
            "13/13 - 0s - loss: 0.0446 - mae: 0.1450 - val_loss: 0.0576 - val_mae: 0.1708 - 61ms/epoch - 5ms/step\n",
            "Epoch 74/100\n",
            "13/13 - 0s - loss: 0.0441 - mae: 0.1441 - val_loss: 0.0573 - val_mae: 0.1712 - 47ms/epoch - 4ms/step\n",
            "Epoch 75/100\n",
            "13/13 - 0s - loss: 0.0437 - mae: 0.1430 - val_loss: 0.0568 - val_mae: 0.1695 - 45ms/epoch - 3ms/step\n",
            "Epoch 76/100\n",
            "13/13 - 0s - loss: 0.0433 - mae: 0.1420 - val_loss: 0.0562 - val_mae: 0.1684 - 47ms/epoch - 4ms/step\n",
            "Epoch 77/100\n",
            "13/13 - 0s - loss: 0.0430 - mae: 0.1396 - val_loss: 0.0559 - val_mae: 0.1663 - 56ms/epoch - 4ms/step\n",
            "Epoch 78/100\n",
            "13/13 - 0s - loss: 0.0424 - mae: 0.1403 - val_loss: 0.0554 - val_mae: 0.1688 - 48ms/epoch - 4ms/step\n",
            "Epoch 79/100\n",
            "13/13 - 0s - loss: 0.0421 - mae: 0.1400 - val_loss: 0.0549 - val_mae: 0.1664 - 52ms/epoch - 4ms/step\n",
            "Epoch 80/100\n",
            "13/13 - 0s - loss: 0.0416 - mae: 0.1372 - val_loss: 0.0545 - val_mae: 0.1637 - 62ms/epoch - 5ms/step\n",
            "Epoch 81/100\n",
            "13/13 - 0s - loss: 0.0412 - mae: 0.1361 - val_loss: 0.0538 - val_mae: 0.1628 - 58ms/epoch - 4ms/step\n",
            "Epoch 82/100\n",
            "13/13 - 0s - loss: 0.0408 - mae: 0.1360 - val_loss: 0.0535 - val_mae: 0.1639 - 61ms/epoch - 5ms/step\n",
            "Epoch 83/100\n",
            "13/13 - 0s - loss: 0.0403 - mae: 0.1349 - val_loss: 0.0530 - val_mae: 0.1614 - 61ms/epoch - 5ms/step\n",
            "Epoch 84/100\n",
            "13/13 - 0s - loss: 0.0402 - mae: 0.1339 - val_loss: 0.0525 - val_mae: 0.1614 - 64ms/epoch - 5ms/step\n",
            "Epoch 85/100\n",
            "13/13 - 0s - loss: 0.0396 - mae: 0.1325 - val_loss: 0.0521 - val_mae: 0.1586 - 48ms/epoch - 4ms/step\n",
            "Epoch 86/100\n",
            "13/13 - 0s - loss: 0.0391 - mae: 0.1314 - val_loss: 0.0516 - val_mae: 0.1598 - 62ms/epoch - 5ms/step\n",
            "Epoch 87/100\n",
            "13/13 - 0s - loss: 0.0390 - mae: 0.1327 - val_loss: 0.0511 - val_mae: 0.1583 - 46ms/epoch - 4ms/step\n",
            "Epoch 88/100\n",
            "13/13 - 0s - loss: 0.0385 - mae: 0.1293 - val_loss: 0.0507 - val_mae: 0.1557 - 64ms/epoch - 5ms/step\n",
            "Epoch 89/100\n",
            "13/13 - 0s - loss: 0.0381 - mae: 0.1289 - val_loss: 0.0502 - val_mae: 0.1555 - 63ms/epoch - 5ms/step\n",
            "Epoch 90/100\n",
            "13/13 - 0s - loss: 0.0376 - mae: 0.1289 - val_loss: 0.0498 - val_mae: 0.1565 - 47ms/epoch - 4ms/step\n",
            "Epoch 91/100\n",
            "13/13 - 0s - loss: 0.0373 - mae: 0.1286 - val_loss: 0.0493 - val_mae: 0.1549 - 45ms/epoch - 3ms/step\n",
            "Epoch 92/100\n",
            "13/13 - 0s - loss: 0.0370 - mae: 0.1256 - val_loss: 0.0489 - val_mae: 0.1493 - 51ms/epoch - 4ms/step\n",
            "Epoch 93/100\n",
            "13/13 - 0s - loss: 0.0368 - mae: 0.1256 - val_loss: 0.0484 - val_mae: 0.1537 - 71ms/epoch - 5ms/step\n",
            "Epoch 94/100\n",
            "13/13 - 0s - loss: 0.0362 - mae: 0.1244 - val_loss: 0.0477 - val_mae: 0.1483 - 47ms/epoch - 4ms/step\n",
            "Epoch 95/100\n",
            "13/13 - 0s - loss: 0.0357 - mae: 0.1236 - val_loss: 0.0473 - val_mae: 0.1505 - 63ms/epoch - 5ms/step\n",
            "Epoch 96/100\n",
            "13/13 - 0s - loss: 0.0353 - mae: 0.1230 - val_loss: 0.0466 - val_mae: 0.1469 - 50ms/epoch - 4ms/step\n",
            "Epoch 97/100\n",
            "13/13 - 0s - loss: 0.0349 - mae: 0.1212 - val_loss: 0.0464 - val_mae: 0.1485 - 68ms/epoch - 5ms/step\n",
            "Epoch 98/100\n",
            "13/13 - 0s - loss: 0.0345 - mae: 0.1213 - val_loss: 0.0457 - val_mae: 0.1465 - 57ms/epoch - 4ms/step\n",
            "Epoch 99/100\n",
            "13/13 - 0s - loss: 0.0341 - mae: 0.1209 - val_loss: 0.0454 - val_mae: 0.1471 - 65ms/epoch - 5ms/step\n",
            "Epoch 100/100\n",
            "13/13 - 0s - loss: 0.0337 - mae: 0.1186 - val_loss: 0.0446 - val_mae: 0.1419 - 61ms/epoch - 5ms/step\n"
          ]
        }
      ]
    },
    {
      "cell_type": "markdown",
      "source": [
        "# hello world lab"
      ],
      "metadata": {
        "id": "VLUPvwDygxcd"
      }
    },
    {
      "cell_type": "code",
      "source": [
        "!git clone https://github.com/Yui-Arthur/tinyML_TFLM_lab.git"
      ],
      "metadata": {
        "colab": {
          "base_uri": "https://localhost:8080/"
        },
        "id": "_mYEyB8CYqQ0",
        "outputId": "5df07827-6292-49c5-ab0f-b172ca47a389"
      },
      "execution_count": null,
      "outputs": [
        {
          "output_type": "stream",
          "name": "stdout",
          "text": [
            "Cloning into 'tinyML_TFLM_lab'...\n",
            "remote: Enumerating objects: 697, done.\u001b[K\n",
            "remote: Counting objects: 100% (697/697), done.\u001b[K\n",
            "remote: Compressing objects: 100% (450/450), done.\u001b[K\n",
            "remote: Total 697 (delta 254), reused 674 (delta 231), pack-reused 0\u001b[K\n",
            "Receiving objects: 100% (697/697), 4.70 MiB | 13.90 MiB/s, done.\n",
            "Resolving deltas: 100% (254/254), done.\n"
          ]
        }
      ]
    },
    {
      "cell_type": "code",
      "source": [
        "%cd tinyML_TFLM_lab/hello_world_lab/hello_world"
      ],
      "metadata": {
        "colab": {
          "base_uri": "https://localhost:8080/"
        },
        "id": "LW_fllDEDQrW",
        "outputId": "5ba1f1b3-ef3e-4e35-8fdd-2763ee37f0be"
      },
      "execution_count": null,
      "outputs": [
        {
          "output_type": "stream",
          "name": "stdout",
          "text": [
            "/content/tinyML_TFLM_lab/hello_world_lab/hello_world\n"
          ]
        }
      ]
    },
    {
      "cell_type": "markdown",
      "source": [
        "## run script"
      ],
      "metadata": {
        "id": "DAMGz_qEZyVn"
      }
    },
    {
      "cell_type": "code",
      "source": [
        "# setup the tflm lib\n",
        "# https://github.com/ARM-software/ML-examples/blob/main/tflm-cmsisnn-mbed-image-recognition/setup.sh\n",
        "!bash setup.sh\n",
        "# change flatbuffers header to fb_*\n",
        "# https://github.com/tensorflow/tflite-micro/issues/1226\n",
        "!bash preprocess.sh"
      ],
      "metadata": {
        "id": "ssIV9dsmSWYY"
      },
      "execution_count": null,
      "outputs": []
    },
    {
      "cell_type": "markdown",
      "source": [
        "## export .tflite model to .cc"
      ],
      "metadata": {
        "id": "JJxbeLIAZ1N_"
      }
    },
    {
      "cell_type": "code",
      "source": [
        "!xxd -i /content/hello_world_float.tflite > model.cc\n",
        "!echo -ne \"#include \\\"model_data.h\\\"\\nalignas(8)\\n\" > model_data.cc\n",
        "!cat model.cc >> model_data.cc\n",
        "!sed -i -E 's/(unsigned\\s.*\\s).*(_len|\\[\\])/const \\1model_data\\2/g' model_data.cc"
      ],
      "metadata": {
        "id": "cUQ7d1fEUYet"
      },
      "execution_count": null,
      "outputs": []
    },
    {
      "cell_type": "markdown",
      "source": [
        "# compile"
      ],
      "metadata": {
        "id": "7-RLUDuRgxsZ"
      }
    },
    {
      "cell_type": "code",
      "source": [
        "!sudo apt-get install python3.7\n",
        "!sudo apt-get update -y\n",
        "!sudo update-alternatives --install /usr/bin/python3 python3 /usr/bin/python3.7 1\n",
        "!sudo update-alternatives --config python3 << '2'\n",
        "!sudo apt install python3-pip\n",
        "!sudo apt-get install python3.7-distutils\n",
        "!python -m pip install --upgrade --force-reinstall pip"
      ],
      "metadata": {
        "id": "6a3AKX4Sgv9_"
      },
      "execution_count": null,
      "outputs": []
    },
    {
      "cell_type": "code",
      "source": [
        "!python -V\n",
        "!pip -V"
      ],
      "metadata": {
        "colab": {
          "base_uri": "https://localhost:8080/"
        },
        "id": "Ye8UOXFig0Pu",
        "outputId": "143e654f-ae9f-45c2-c66e-83fd802c4778"
      },
      "execution_count": null,
      "outputs": [
        {
          "output_type": "stream",
          "name": "stdout",
          "text": [
            "Python 3.7.17\n",
            "pip 23.3.1 from /usr/local/lib/python3.7/dist-packages/pip (python 3.7)\n"
          ]
        }
      ]
    },
    {
      "cell_type": "code",
      "source": [
        "!sudo apt install git mercurial libusb-1.0-0-dev\n",
        "!pip install mbed-cli\n",
        "# install python dependency\n",
        "\n",
        "!wget https://raw.githubusercontent.com/ARMmbed/mbed-os/master/requirements.txt\n",
        "!sed -i 's/psutil==5.6.7/ /' requirements.txt\n",
        "!pip install -r requirements.txt"
      ],
      "metadata": {
        "id": "cO3laJEvg2wB"
      },
      "execution_count": null,
      "outputs": []
    },
    {
      "cell_type": "code",
      "source": [
        "!wget -O gcc-arm-none-eabi-9-2020-q2-update-x86_64-linux.tar.bz2 https://developer.arm.com/-/media/Files/downloads/gnu-rm/9-2020q2/gcc-arm-none-eabi-9-2020-q2-update-x86_64-linux.tar.bz2?revision=05382cca-1721-44e1-ae19-1e7c3dc96118&rev=05382cca172144e1ae191e7c3dc96118&hash=FDE675133A099796BD1507A3FF215AC4\n",
        "!sudo tar -jxvf ./gcc-arm-none-eabi-9-2020-q2-update-x86_64-linux.tar.bz2 -C /usr/local/"
      ],
      "metadata": {
        "id": "juoBF6lUg469"
      },
      "execution_count": null,
      "outputs": []
    },
    {
      "cell_type": "code",
      "source": [
        "!pip install psutil\n",
        "!pip install Jinja2\n",
        "!pip install jsonschema\n",
        "!pip install Pillow\n",
        "!pip install numpy"
      ],
      "metadata": {
        "id": "UpGaXxVZg6Po"
      },
      "execution_count": null,
      "outputs": []
    },
    {
      "cell_type": "code",
      "source": [
        "!mbed config -G GCC_ARM_PATH /usr/local/gcc-arm-none-eabi-9-2020-q2-update/bin\n",
        "!mbed config -G TOOLCHAIN GCC_ARM\n",
        "!mbed add mbed-os\n",
        "!mbed deploy"
      ],
      "metadata": {
        "id": "US8NYKbHg_kc"
      },
      "execution_count": null,
      "outputs": []
    },
    {
      "cell_type": "code",
      "source": [
        "!mbed add /content/hello_world/libtensorflow-microlite.a"
      ],
      "metadata": {
        "id": "utW1qVr5e5RX"
      },
      "execution_count": null,
      "outputs": []
    },
    {
      "cell_type": "code",
      "source": [
        "!sudo mbed compile"
      ],
      "metadata": {
        "id": "ZAoDimA6hCX7"
      },
      "execution_count": null,
      "outputs": []
    }
  ]
}