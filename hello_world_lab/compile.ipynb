{
  "nbformat": 4,
  "nbformat_minor": 0,
  "metadata": {
    "colab": {
      "provenance": []
    },
    "kernelspec": {
      "name": "python3",
      "display_name": "Python 3"
    },
    "language_info": {
      "name": "python"
    }
  },
  "cells": [
    {
      "cell_type": "markdown",
      "source": [
        "# train\n"
      ],
      "metadata": {
        "id": "hjTsHC032GkL"
      }
    },
    {
      "cell_type": "code",
      "execution_count": 2,
      "metadata": {
        "id": "h-SGNsgx1xXP"
      },
      "outputs": [],
      "source": [
        "import math\n",
        "import os\n",
        "\n",
        "from absl import app\n",
        "from absl import flags\n",
        "from absl import logging\n",
        "import numpy as np\n",
        "import tensorflow as tf\n",
        "\n",
        "def get_data():\n",
        "\n",
        "  x_values = np.random.uniform(low=0, high=2 * math.pi,size=1000).astype(np.float32)\n",
        "\n",
        "  np.random.shuffle(x_values)\n",
        "\n",
        "  y_values = np.sin(x_values).astype(np.float32)\n",
        "\n",
        "  return (x_values, y_values)"
      ]
    },
    {
      "cell_type": "code",
      "source": [
        "def create_model() -> tf.keras.Model:\n",
        "  model = tf.keras.Sequential()\n",
        "  model.add(tf.keras.layers.Dense(16, activation='relu', input_shape=(1, )))\n",
        "\n",
        "  model.add(tf.keras.layers.Dense(16, activation='relu'))\n",
        "\n",
        "  model.add(tf.keras.layers.Dense(1))\n",
        "\n",
        "  model.compile(optimizer='adam', loss='mse', metrics=['mae'])\n",
        "\n",
        "  return model"
      ],
      "metadata": {
        "id": "zaLmPgvv2ZgC"
      },
      "execution_count": 3,
      "outputs": []
    },
    {
      "cell_type": "code",
      "source": [
        "def convert_tflite_model(model):\n",
        "\n",
        "  converter = tf.lite.TFLiteConverter.from_keras_model(model)\n",
        "  tflite_model = converter.convert()\n",
        "  return tflite_model\n"
      ],
      "metadata": {
        "id": "MBhkRBQ02qNB"
      },
      "execution_count": 4,
      "outputs": []
    },
    {
      "cell_type": "code",
      "source": [
        "def save_tflite_model(tflite_model, save_dir, model_name):\n",
        "\n",
        "  if not os.path.exists(save_dir):\n",
        "    os.makedirs(save_dir)\n",
        "  save_path = os.path.join(save_dir, model_name)\n",
        "  with open(save_path, \"wb\") as f:\n",
        "    f.write(tflite_model)\n",
        "  logging.info(\"Tflite model saved to %s\", save_dir)"
      ],
      "metadata": {
        "id": "AhtNNKLN2zTw"
      },
      "execution_count": 5,
      "outputs": []
    },
    {
      "cell_type": "code",
      "source": [
        "def train_model(epochs, x_values, y_values):\n",
        "\n",
        "  model = create_model()\n",
        "  model.fit(x_values,\n",
        "            y_values,\n",
        "            epochs=epochs,\n",
        "            validation_split=0.2,\n",
        "            batch_size=64,\n",
        "            verbose=2)\n",
        "\n",
        "  return model"
      ],
      "metadata": {
        "id": "KJb1ZpfW24_-"
      },
      "execution_count": 6,
      "outputs": []
    },
    {
      "cell_type": "code",
      "source": [
        "x_values, y_values = get_data()\n",
        "trained_model = train_model(100, x_values, y_values)\n",
        "\n",
        "  # Convert and save the model to .tflite\n",
        "tflite_model = convert_tflite_model(trained_model)\n",
        "save_tflite_model(tflite_model,\n",
        "                  \"./\",\n",
        "                    model_name=\"hello_world_float.tflite\")"
      ],
      "metadata": {
        "colab": {
          "base_uri": "https://localhost:8080/"
        },
        "id": "sbaqKWrR3BUg",
        "outputId": "53f29403-c284-4fd6-cf9f-8fa2d86ed50c"
      },
      "execution_count": 7,
      "outputs": [
        {
          "output_type": "stream",
          "name": "stdout",
          "text": [
            "Epoch 1/100\n",
            "13/13 - 1s - loss: 0.4228 - mae: 0.5730 - val_loss: 0.3998 - val_mae: 0.5545 - 1s/epoch - 79ms/step\n",
            "Epoch 2/100\n",
            "13/13 - 0s - loss: 0.3885 - mae: 0.5345 - val_loss: 0.3756 - val_mae: 0.5349 - 53ms/epoch - 4ms/step\n",
            "Epoch 3/100\n",
            "13/13 - 0s - loss: 0.3637 - mae: 0.5193 - val_loss: 0.3572 - val_mae: 0.5271 - 55ms/epoch - 4ms/step\n",
            "Epoch 4/100\n",
            "13/13 - 0s - loss: 0.3417 - mae: 0.5052 - val_loss: 0.3354 - val_mae: 0.5086 - 80ms/epoch - 6ms/step\n",
            "Epoch 5/100\n",
            "13/13 - 0s - loss: 0.3210 - mae: 0.4894 - val_loss: 0.3156 - val_mae: 0.4944 - 55ms/epoch - 4ms/step\n",
            "Epoch 6/100\n",
            "13/13 - 0s - loss: 0.3005 - mae: 0.4751 - val_loss: 0.2963 - val_mae: 0.4790 - 67ms/epoch - 5ms/step\n",
            "Epoch 7/100\n",
            "13/13 - 0s - loss: 0.2795 - mae: 0.4579 - val_loss: 0.2780 - val_mae: 0.4656 - 98ms/epoch - 8ms/step\n",
            "Epoch 8/100\n",
            "13/13 - 0s - loss: 0.2613 - mae: 0.4441 - val_loss: 0.2589 - val_mae: 0.4479 - 83ms/epoch - 6ms/step\n",
            "Epoch 9/100\n",
            "13/13 - 0s - loss: 0.2420 - mae: 0.4260 - val_loss: 0.2439 - val_mae: 0.4383 - 93ms/epoch - 7ms/step\n",
            "Epoch 10/100\n",
            "13/13 - 0s - loss: 0.2243 - mae: 0.4139 - val_loss: 0.2277 - val_mae: 0.4243 - 77ms/epoch - 6ms/step\n",
            "Epoch 11/100\n",
            "13/13 - 0s - loss: 0.2078 - mae: 0.3979 - val_loss: 0.2123 - val_mae: 0.4099 - 79ms/epoch - 6ms/step\n",
            "Epoch 12/100\n",
            "13/13 - 0s - loss: 0.1925 - mae: 0.3836 - val_loss: 0.1967 - val_mae: 0.3921 - 73ms/epoch - 6ms/step\n",
            "Epoch 13/100\n",
            "13/13 - 0s - loss: 0.1780 - mae: 0.3668 - val_loss: 0.1859 - val_mae: 0.3826 - 84ms/epoch - 6ms/step\n",
            "Epoch 14/100\n",
            "13/13 - 0s - loss: 0.1653 - mae: 0.3537 - val_loss: 0.1740 - val_mae: 0.3680 - 84ms/epoch - 6ms/step\n",
            "Epoch 15/100\n",
            "13/13 - 0s - loss: 0.1546 - mae: 0.3391 - val_loss: 0.1643 - val_mae: 0.3551 - 76ms/epoch - 6ms/step\n",
            "Epoch 16/100\n",
            "13/13 - 0s - loss: 0.1457 - mae: 0.3281 - val_loss: 0.1565 - val_mae: 0.3438 - 88ms/epoch - 7ms/step\n",
            "Epoch 17/100\n",
            "13/13 - 0s - loss: 0.1396 - mae: 0.3190 - val_loss: 0.1501 - val_mae: 0.3329 - 97ms/epoch - 7ms/step\n",
            "Epoch 18/100\n",
            "13/13 - 0s - loss: 0.1330 - mae: 0.3065 - val_loss: 0.1469 - val_mae: 0.3284 - 77ms/epoch - 6ms/step\n",
            "Epoch 19/100\n",
            "13/13 - 0s - loss: 0.1292 - mae: 0.3004 - val_loss: 0.1415 - val_mae: 0.3130 - 71ms/epoch - 5ms/step\n",
            "Epoch 20/100\n",
            "13/13 - 0s - loss: 0.1257 - mae: 0.2891 - val_loss: 0.1398 - val_mae: 0.3156 - 72ms/epoch - 6ms/step\n",
            "Epoch 21/100\n",
            "13/13 - 0s - loss: 0.1191 - mae: 0.2839 - val_loss: 0.1306 - val_mae: 0.2977 - 87ms/epoch - 7ms/step\n",
            "Epoch 22/100\n",
            "13/13 - 0s - loss: 0.1148 - mae: 0.2744 - val_loss: 0.1295 - val_mae: 0.2983 - 86ms/epoch - 7ms/step\n",
            "Epoch 23/100\n",
            "13/13 - 0s - loss: 0.1108 - mae: 0.2670 - val_loss: 0.1243 - val_mae: 0.2844 - 72ms/epoch - 6ms/step\n",
            "Epoch 24/100\n",
            "13/13 - 0s - loss: 0.1086 - mae: 0.2603 - val_loss: 0.1241 - val_mae: 0.2855 - 72ms/epoch - 6ms/step\n",
            "Epoch 25/100\n",
            "13/13 - 0s - loss: 0.1071 - mae: 0.2558 - val_loss: 0.1205 - val_mae: 0.2754 - 74ms/epoch - 6ms/step\n",
            "Epoch 26/100\n",
            "13/13 - 0s - loss: 0.1050 - mae: 0.2511 - val_loss: 0.1201 - val_mae: 0.2748 - 74ms/epoch - 6ms/step\n",
            "Epoch 27/100\n",
            "13/13 - 0s - loss: 0.1052 - mae: 0.2491 - val_loss: 0.1182 - val_mae: 0.2694 - 83ms/epoch - 6ms/step\n",
            "Epoch 28/100\n",
            "13/13 - 0s - loss: 0.1028 - mae: 0.2447 - val_loss: 0.1168 - val_mae: 0.2656 - 96ms/epoch - 7ms/step\n",
            "Epoch 29/100\n",
            "13/13 - 0s - loss: 0.1013 - mae: 0.2404 - val_loss: 0.1160 - val_mae: 0.2631 - 81ms/epoch - 6ms/step\n",
            "Epoch 30/100\n",
            "13/13 - 0s - loss: 0.1002 - mae: 0.2370 - val_loss: 0.1158 - val_mae: 0.2624 - 85ms/epoch - 7ms/step\n",
            "Epoch 31/100\n",
            "13/13 - 0s - loss: 0.0991 - mae: 0.2340 - val_loss: 0.1137 - val_mae: 0.2571 - 89ms/epoch - 7ms/step\n",
            "Epoch 32/100\n",
            "13/13 - 0s - loss: 0.0985 - mae: 0.2321 - val_loss: 0.1125 - val_mae: 0.2535 - 89ms/epoch - 7ms/step\n",
            "Epoch 33/100\n",
            "13/13 - 0s - loss: 0.0973 - mae: 0.2297 - val_loss: 0.1123 - val_mae: 0.2542 - 87ms/epoch - 7ms/step\n",
            "Epoch 34/100\n",
            "13/13 - 0s - loss: 0.0963 - mae: 0.2264 - val_loss: 0.1101 - val_mae: 0.2473 - 83ms/epoch - 6ms/step\n",
            "Epoch 35/100\n",
            "13/13 - 0s - loss: 0.0955 - mae: 0.2251 - val_loss: 0.1099 - val_mae: 0.2485 - 85ms/epoch - 7ms/step\n",
            "Epoch 36/100\n",
            "13/13 - 0s - loss: 0.0970 - mae: 0.2221 - val_loss: 0.1113 - val_mae: 0.2509 - 97ms/epoch - 7ms/step\n",
            "Epoch 37/100\n",
            "13/13 - 0s - loss: 0.0962 - mae: 0.2251 - val_loss: 0.1079 - val_mae: 0.2418 - 65ms/epoch - 5ms/step\n",
            "Epoch 38/100\n",
            "13/13 - 0s - loss: 0.0948 - mae: 0.2213 - val_loss: 0.1075 - val_mae: 0.2442 - 54ms/epoch - 4ms/step\n",
            "Epoch 39/100\n",
            "13/13 - 0s - loss: 0.0919 - mae: 0.2168 - val_loss: 0.1058 - val_mae: 0.2405 - 67ms/epoch - 5ms/step\n",
            "Epoch 40/100\n",
            "13/13 - 0s - loss: 0.0913 - mae: 0.2147 - val_loss: 0.1064 - val_mae: 0.2428 - 67ms/epoch - 5ms/step\n",
            "Epoch 41/100\n",
            "13/13 - 0s - loss: 0.0914 - mae: 0.2173 - val_loss: 0.1034 - val_mae: 0.2356 - 60ms/epoch - 5ms/step\n",
            "Epoch 42/100\n",
            "13/13 - 0s - loss: 0.0911 - mae: 0.2130 - val_loss: 0.1044 - val_mae: 0.2379 - 55ms/epoch - 4ms/step\n",
            "Epoch 43/100\n",
            "13/13 - 0s - loss: 0.0884 - mae: 0.2108 - val_loss: 0.1011 - val_mae: 0.2315 - 54ms/epoch - 4ms/step\n",
            "Epoch 44/100\n",
            "13/13 - 0s - loss: 0.0874 - mae: 0.2080 - val_loss: 0.1004 - val_mae: 0.2297 - 51ms/epoch - 4ms/step\n",
            "Epoch 45/100\n",
            "13/13 - 0s - loss: 0.0863 - mae: 0.2057 - val_loss: 0.1007 - val_mae: 0.2323 - 51ms/epoch - 4ms/step\n",
            "Epoch 46/100\n",
            "13/13 - 0s - loss: 0.0857 - mae: 0.2055 - val_loss: 0.0989 - val_mae: 0.2291 - 67ms/epoch - 5ms/step\n",
            "Epoch 47/100\n",
            "13/13 - 0s - loss: 0.0850 - mae: 0.2044 - val_loss: 0.0968 - val_mae: 0.2212 - 51ms/epoch - 4ms/step\n",
            "Epoch 48/100\n",
            "13/13 - 0s - loss: 0.0843 - mae: 0.2001 - val_loss: 0.0975 - val_mae: 0.2254 - 52ms/epoch - 4ms/step\n",
            "Epoch 49/100\n",
            "13/13 - 0s - loss: 0.0825 - mae: 0.1995 - val_loss: 0.0951 - val_mae: 0.2207 - 69ms/epoch - 5ms/step\n",
            "Epoch 50/100\n",
            "13/13 - 0s - loss: 0.0823 - mae: 0.1991 - val_loss: 0.0941 - val_mae: 0.2196 - 52ms/epoch - 4ms/step\n",
            "Epoch 51/100\n",
            "13/13 - 0s - loss: 0.0827 - mae: 0.1951 - val_loss: 0.0954 - val_mae: 0.2224 - 51ms/epoch - 4ms/step\n",
            "Epoch 52/100\n",
            "13/13 - 0s - loss: 0.0820 - mae: 0.1945 - val_loss: 0.0927 - val_mae: 0.2183 - 52ms/epoch - 4ms/step\n",
            "Epoch 53/100\n",
            "13/13 - 0s - loss: 0.0811 - mae: 0.1989 - val_loss: 0.0914 - val_mae: 0.2149 - 52ms/epoch - 4ms/step\n",
            "Epoch 54/100\n",
            "13/13 - 0s - loss: 0.0795 - mae: 0.1924 - val_loss: 0.0931 - val_mae: 0.2179 - 61ms/epoch - 5ms/step\n",
            "Epoch 55/100\n",
            "13/13 - 0s - loss: 0.0780 - mae: 0.1905 - val_loss: 0.0897 - val_mae: 0.2137 - 56ms/epoch - 4ms/step\n",
            "Epoch 56/100\n",
            "13/13 - 0s - loss: 0.0768 - mae: 0.1908 - val_loss: 0.0880 - val_mae: 0.2079 - 52ms/epoch - 4ms/step\n",
            "Epoch 57/100\n",
            "13/13 - 0s - loss: 0.0762 - mae: 0.1858 - val_loss: 0.0895 - val_mae: 0.2118 - 52ms/epoch - 4ms/step\n",
            "Epoch 58/100\n",
            "13/13 - 0s - loss: 0.0754 - mae: 0.1862 - val_loss: 0.0864 - val_mae: 0.2067 - 57ms/epoch - 4ms/step\n",
            "Epoch 59/100\n",
            "13/13 - 0s - loss: 0.0744 - mae: 0.1854 - val_loss: 0.0876 - val_mae: 0.2111 - 55ms/epoch - 4ms/step\n",
            "Epoch 60/100\n",
            "13/13 - 0s - loss: 0.0726 - mae: 0.1819 - val_loss: 0.0840 - val_mae: 0.1999 - 51ms/epoch - 4ms/step\n",
            "Epoch 61/100\n",
            "13/13 - 0s - loss: 0.0726 - mae: 0.1805 - val_loss: 0.0832 - val_mae: 0.1995 - 53ms/epoch - 4ms/step\n",
            "Epoch 62/100\n",
            "13/13 - 0s - loss: 0.0719 - mae: 0.1800 - val_loss: 0.0824 - val_mae: 0.1976 - 52ms/epoch - 4ms/step\n",
            "Epoch 63/100\n",
            "13/13 - 0s - loss: 0.0710 - mae: 0.1768 - val_loss: 0.0817 - val_mae: 0.1966 - 54ms/epoch - 4ms/step\n",
            "Epoch 64/100\n",
            "13/13 - 0s - loss: 0.0697 - mae: 0.1741 - val_loss: 0.0817 - val_mae: 0.1986 - 67ms/epoch - 5ms/step\n",
            "Epoch 65/100\n",
            "13/13 - 0s - loss: 0.0691 - mae: 0.1768 - val_loss: 0.0799 - val_mae: 0.1940 - 64ms/epoch - 5ms/step\n",
            "Epoch 66/100\n",
            "13/13 - 0s - loss: 0.0686 - mae: 0.1717 - val_loss: 0.0795 - val_mae: 0.1919 - 53ms/epoch - 4ms/step\n",
            "Epoch 67/100\n",
            "13/13 - 0s - loss: 0.0673 - mae: 0.1716 - val_loss: 0.0790 - val_mae: 0.1955 - 66ms/epoch - 5ms/step\n",
            "Epoch 68/100\n",
            "13/13 - 0s - loss: 0.0666 - mae: 0.1717 - val_loss: 0.0777 - val_mae: 0.1920 - 67ms/epoch - 5ms/step\n",
            "Epoch 69/100\n",
            "13/13 - 0s - loss: 0.0655 - mae: 0.1679 - val_loss: 0.0765 - val_mae: 0.1880 - 53ms/epoch - 4ms/step\n",
            "Epoch 70/100\n",
            "13/13 - 0s - loss: 0.0652 - mae: 0.1657 - val_loss: 0.0755 - val_mae: 0.1858 - 52ms/epoch - 4ms/step\n",
            "Epoch 71/100\n",
            "13/13 - 0s - loss: 0.0663 - mae: 0.1702 - val_loss: 0.0751 - val_mae: 0.1878 - 51ms/epoch - 4ms/step\n",
            "Epoch 72/100\n",
            "13/13 - 0s - loss: 0.0650 - mae: 0.1651 - val_loss: 0.0754 - val_mae: 0.1859 - 55ms/epoch - 4ms/step\n",
            "Epoch 73/100\n",
            "13/13 - 0s - loss: 0.0639 - mae: 0.1658 - val_loss: 0.0736 - val_mae: 0.1838 - 71ms/epoch - 5ms/step\n",
            "Epoch 74/100\n",
            "13/13 - 0s - loss: 0.0632 - mae: 0.1616 - val_loss: 0.0747 - val_mae: 0.1863 - 56ms/epoch - 4ms/step\n",
            "Epoch 75/100\n",
            "13/13 - 0s - loss: 0.0616 - mae: 0.1605 - val_loss: 0.0715 - val_mae: 0.1804 - 60ms/epoch - 5ms/step\n",
            "Epoch 76/100\n",
            "13/13 - 0s - loss: 0.0606 - mae: 0.1586 - val_loss: 0.0712 - val_mae: 0.1794 - 52ms/epoch - 4ms/step\n",
            "Epoch 77/100\n",
            "13/13 - 0s - loss: 0.0597 - mae: 0.1577 - val_loss: 0.0698 - val_mae: 0.1764 - 69ms/epoch - 5ms/step\n",
            "Epoch 78/100\n",
            "13/13 - 0s - loss: 0.0595 - mae: 0.1546 - val_loss: 0.0702 - val_mae: 0.1772 - 53ms/epoch - 4ms/step\n",
            "Epoch 79/100\n",
            "13/13 - 0s - loss: 0.0593 - mae: 0.1569 - val_loss: 0.0685 - val_mae: 0.1756 - 71ms/epoch - 5ms/step\n",
            "Epoch 80/100\n",
            "13/13 - 0s - loss: 0.0575 - mae: 0.1538 - val_loss: 0.0681 - val_mae: 0.1735 - 54ms/epoch - 4ms/step\n",
            "Epoch 81/100\n",
            "13/13 - 0s - loss: 0.0567 - mae: 0.1514 - val_loss: 0.0664 - val_mae: 0.1688 - 55ms/epoch - 4ms/step\n",
            "Epoch 82/100\n",
            "13/13 - 0s - loss: 0.0565 - mae: 0.1504 - val_loss: 0.0657 - val_mae: 0.1671 - 63ms/epoch - 5ms/step\n",
            "Epoch 83/100\n",
            "13/13 - 0s - loss: 0.0558 - mae: 0.1474 - val_loss: 0.0668 - val_mae: 0.1725 - 70ms/epoch - 5ms/step\n",
            "Epoch 84/100\n",
            "13/13 - 0s - loss: 0.0554 - mae: 0.1504 - val_loss: 0.0649 - val_mae: 0.1689 - 55ms/epoch - 4ms/step\n",
            "Epoch 85/100\n",
            "13/13 - 0s - loss: 0.0545 - mae: 0.1478 - val_loss: 0.0636 - val_mae: 0.1636 - 68ms/epoch - 5ms/step\n",
            "Epoch 86/100\n",
            "13/13 - 0s - loss: 0.0536 - mae: 0.1433 - val_loss: 0.0634 - val_mae: 0.1649 - 54ms/epoch - 4ms/step\n",
            "Epoch 87/100\n",
            "13/13 - 0s - loss: 0.0534 - mae: 0.1466 - val_loss: 0.0624 - val_mae: 0.1631 - 52ms/epoch - 4ms/step\n",
            "Epoch 88/100\n",
            "13/13 - 0s - loss: 0.0531 - mae: 0.1428 - val_loss: 0.0616 - val_mae: 0.1606 - 53ms/epoch - 4ms/step\n",
            "Epoch 89/100\n",
            "13/13 - 0s - loss: 0.0517 - mae: 0.1402 - val_loss: 0.0608 - val_mae: 0.1589 - 53ms/epoch - 4ms/step\n",
            "Epoch 90/100\n",
            "13/13 - 0s - loss: 0.0516 - mae: 0.1410 - val_loss: 0.0602 - val_mae: 0.1586 - 53ms/epoch - 4ms/step\n",
            "Epoch 91/100\n",
            "13/13 - 0s - loss: 0.0509 - mae: 0.1386 - val_loss: 0.0600 - val_mae: 0.1584 - 70ms/epoch - 5ms/step\n",
            "Epoch 92/100\n",
            "13/13 - 0s - loss: 0.0511 - mae: 0.1410 - val_loss: 0.0591 - val_mae: 0.1562 - 54ms/epoch - 4ms/step\n",
            "Epoch 93/100\n",
            "13/13 - 0s - loss: 0.0495 - mae: 0.1382 - val_loss: 0.0583 - val_mae: 0.1557 - 68ms/epoch - 5ms/step\n",
            "Epoch 94/100\n",
            "13/13 - 0s - loss: 0.0491 - mae: 0.1374 - val_loss: 0.0577 - val_mae: 0.1535 - 53ms/epoch - 4ms/step\n",
            "Epoch 95/100\n",
            "13/13 - 0s - loss: 0.0491 - mae: 0.1349 - val_loss: 0.0570 - val_mae: 0.1524 - 65ms/epoch - 5ms/step\n",
            "Epoch 96/100\n",
            "13/13 - 0s - loss: 0.0477 - mae: 0.1342 - val_loss: 0.0562 - val_mae: 0.1515 - 69ms/epoch - 5ms/step\n",
            "Epoch 97/100\n",
            "13/13 - 0s - loss: 0.0472 - mae: 0.1300 - val_loss: 0.0565 - val_mae: 0.1538 - 53ms/epoch - 4ms/step\n",
            "Epoch 98/100\n",
            "13/13 - 0s - loss: 0.0469 - mae: 0.1321 - val_loss: 0.0555 - val_mae: 0.1520 - 69ms/epoch - 5ms/step\n",
            "Epoch 99/100\n",
            "13/13 - 0s - loss: 0.0458 - mae: 0.1307 - val_loss: 0.0541 - val_mae: 0.1461 - 119ms/epoch - 9ms/step\n",
            "Epoch 100/100\n",
            "13/13 - 0s - loss: 0.0453 - mae: 0.1272 - val_loss: 0.0535 - val_mae: 0.1454 - 204ms/epoch - 16ms/step\n"
          ]
        }
      ]
    },
    {
      "cell_type": "markdown",
      "source": [
        "# hello world lab"
      ],
      "metadata": {
        "id": "VLUPvwDygxcd"
      }
    },
    {
      "cell_type": "code",
      "source": [
        "!git clone https://github.com/Yui-Arthur/tinyML_TFLM_lab.git"
      ],
      "metadata": {
        "id": "_mYEyB8CYqQ0"
      },
      "execution_count": null,
      "outputs": []
    },
    {
      "cell_type": "code",
      "source": [
        "%cd tinyML_TFLM_lab/hello_world_lab/hello_world"
      ],
      "metadata": {
        "colab": {
          "base_uri": "https://localhost:8080/"
        },
        "id": "LW_fllDEDQrW",
        "outputId": "ca0680db-ed5b-4fde-ebfd-08d02a65d5c3"
      },
      "execution_count": 23,
      "outputs": [
        {
          "output_type": "stream",
          "name": "stdout",
          "text": [
            "/content/hello_world\n"
          ]
        }
      ]
    },
    {
      "cell_type": "markdown",
      "source": [
        "## run script"
      ],
      "metadata": {
        "id": "DAMGz_qEZyVn"
      }
    },
    {
      "cell_type": "code",
      "source": [
        "# setup the tflm lib\n",
        "!bash setup.sh\n",
        "# change flatbuffers header to fb_*\n",
        "!bash preprocess.sh"
      ],
      "metadata": {
        "id": "ssIV9dsmSWYY"
      },
      "execution_count": null,
      "outputs": []
    },
    {
      "cell_type": "markdown",
      "source": [
        "## export .tflite model to .cc"
      ],
      "metadata": {
        "id": "JJxbeLIAZ1N_"
      }
    },
    {
      "cell_type": "code",
      "source": [
        "!xxd -i /content/hello_world_float.tflite > model.cc\n",
        "!echo -ne \"#include \\\"model_data.h\\\"\\nalignas(8)\\n\" > model_data.cc\n",
        "!cat model.cc >> model_data.cc\n",
        "!sed -i -E 's/(unsigned\\s.*\\s).*(_len|\\[\\])/const \\1model\\2/g' model_data.cc"
      ],
      "metadata": {
        "id": "cUQ7d1fEUYet"
      },
      "execution_count": 8,
      "outputs": []
    },
    {
      "cell_type": "markdown",
      "source": [
        "# compile"
      ],
      "metadata": {
        "id": "7-RLUDuRgxsZ"
      }
    },
    {
      "cell_type": "code",
      "source": [
        "!sudo apt-get install python3.7\n",
        "!sudo apt-get update -y\n",
        "!sudo update-alternatives --install /usr/bin/python3 python3 /usr/bin/python3.7 1\n",
        "!sudo update-alternatives --config python3 << '2'\n",
        "!sudo apt install python3-pip\n",
        "!sudo apt-get install python3.7-distutils\n",
        "!python -m pip install --upgrade --force-reinstall pip"
      ],
      "metadata": {
        "id": "6a3AKX4Sgv9_",
        "colab": {
          "base_uri": "https://localhost:8080/"
        },
        "outputId": "7772dbe7-bab1-41b7-e2e3-a259de8b34b6"
      },
      "execution_count": 12,
      "outputs": [
        {
          "output_type": "stream",
          "name": "stdout",
          "text": [
            "Reading package lists... Done\n",
            "Building dependency tree... Done\n",
            "Reading state information... Done\n",
            "The following additional packages will be installed:\n",
            "  libpython3.7-minimal libpython3.7-stdlib mailcap mime-support\n",
            "  python3.7-minimal\n",
            "Suggested packages:\n",
            "  python3.7-venv binfmt-support\n",
            "The following NEW packages will be installed:\n",
            "  libpython3.7-minimal libpython3.7-stdlib mailcap mime-support python3.7\n",
            "  python3.7-minimal\n",
            "0 upgraded, 6 newly installed, 0 to remove and 19 not upgraded.\n",
            "Need to get 4,698 kB of archives.\n",
            "After this operation, 17.8 MB of additional disk space will be used.\n",
            "Get:1 http://archive.ubuntu.com/ubuntu jammy/main amd64 mailcap all 3.70+nmu1ubuntu1 [23.8 kB]\n",
            "Get:2 http://archive.ubuntu.com/ubuntu jammy/main amd64 mime-support all 3.66 [3,696 B]\n",
            "Get:3 https://ppa.launchpadcontent.net/deadsnakes/ppa/ubuntu jammy/main amd64 libpython3.7-minimal amd64 3.7.17-1+jammy1 [608 kB]\n",
            "Get:4 https://ppa.launchpadcontent.net/deadsnakes/ppa/ubuntu jammy/main amd64 python3.7-minimal amd64 3.7.17-1+jammy1 [1,837 kB]\n",
            "Get:5 https://ppa.launchpadcontent.net/deadsnakes/ppa/ubuntu jammy/main amd64 libpython3.7-stdlib amd64 3.7.17-1+jammy1 [1,864 kB]\n",
            "Get:6 https://ppa.launchpadcontent.net/deadsnakes/ppa/ubuntu jammy/main amd64 python3.7 amd64 3.7.17-1+jammy1 [362 kB]\n",
            "Fetched 4,698 kB in 10s (488 kB/s)\n",
            "debconf: unable to initialize frontend: Dialog\n",
            "debconf: (No usable dialog-like program is installed, so the dialog based frontend cannot be used. at /usr/share/perl5/Debconf/FrontEnd/Dialog.pm line 78, <> line 6.)\n",
            "debconf: falling back to frontend: Readline\n",
            "debconf: unable to initialize frontend: Readline\n",
            "debconf: (This frontend requires a controlling tty.)\n",
            "debconf: falling back to frontend: Teletype\n",
            "dpkg-preconfigure: unable to re-open stdin: \n",
            "Selecting previously unselected package libpython3.7-minimal:amd64.\n",
            "(Reading database ... 120874 files and directories currently installed.)\n",
            "Preparing to unpack .../0-libpython3.7-minimal_3.7.17-1+jammy1_amd64.deb ...\n",
            "Unpacking libpython3.7-minimal:amd64 (3.7.17-1+jammy1) ...\n",
            "Selecting previously unselected package python3.7-minimal.\n",
            "Preparing to unpack .../1-python3.7-minimal_3.7.17-1+jammy1_amd64.deb ...\n",
            "Unpacking python3.7-minimal (3.7.17-1+jammy1) ...\n",
            "Selecting previously unselected package mailcap.\n",
            "Preparing to unpack .../2-mailcap_3.70+nmu1ubuntu1_all.deb ...\n",
            "Unpacking mailcap (3.70+nmu1ubuntu1) ...\n",
            "Selecting previously unselected package mime-support.\n",
            "Preparing to unpack .../3-mime-support_3.66_all.deb ...\n",
            "Unpacking mime-support (3.66) ...\n",
            "Selecting previously unselected package libpython3.7-stdlib:amd64.\n",
            "Preparing to unpack .../4-libpython3.7-stdlib_3.7.17-1+jammy1_amd64.deb ...\n",
            "Unpacking libpython3.7-stdlib:amd64 (3.7.17-1+jammy1) ...\n",
            "Selecting previously unselected package python3.7.\n",
            "Preparing to unpack .../5-python3.7_3.7.17-1+jammy1_amd64.deb ...\n",
            "Unpacking python3.7 (3.7.17-1+jammy1) ...\n",
            "Setting up libpython3.7-minimal:amd64 (3.7.17-1+jammy1) ...\n",
            "Setting up python3.7-minimal (3.7.17-1+jammy1) ...\n",
            "Setting up mailcap (3.70+nmu1ubuntu1) ...\n",
            "Setting up mime-support (3.66) ...\n",
            "Setting up libpython3.7-stdlib:amd64 (3.7.17-1+jammy1) ...\n",
            "Setting up python3.7 (3.7.17-1+jammy1) ...\n",
            "Processing triggers for man-db (2.10.2-1) ...\n",
            "Get:1 https://cloud.r-project.org/bin/linux/ubuntu jammy-cran40/ InRelease [3,626 B]\n",
            "Hit:2 https://developer.download.nvidia.com/compute/cuda/repos/ubuntu2204/x86_64  InRelease\n",
            "Get:3 https://cloud.r-project.org/bin/linux/ubuntu jammy-cran40/ Packages [44.8 kB]\n",
            "Get:4 http://security.ubuntu.com/ubuntu jammy-security InRelease [110 kB]\n",
            "Hit:5 http://archive.ubuntu.com/ubuntu jammy InRelease\n",
            "Get:6 http://archive.ubuntu.com/ubuntu jammy-updates InRelease [119 kB]\n",
            "Hit:7 https://ppa.launchpadcontent.net/c2d4u.team/c2d4u4.0+/ubuntu jammy InRelease\n",
            "Get:8 http://security.ubuntu.com/ubuntu jammy-security/universe amd64 Packages [1,009 kB]\n",
            "Get:9 http://archive.ubuntu.com/ubuntu jammy-backports InRelease [109 kB]\n",
            "Hit:10 https://ppa.launchpadcontent.net/deadsnakes/ppa/ubuntu jammy InRelease\n",
            "Get:11 http://archive.ubuntu.com/ubuntu jammy-updates/main amd64 Packages [1,400 kB]\n",
            "Get:12 http://security.ubuntu.com/ubuntu jammy-security/main amd64 Packages [1,131 kB]\n",
            "Get:13 http://archive.ubuntu.com/ubuntu jammy-updates/universe amd64 Packages [1,274 kB]\n",
            "Hit:14 https://ppa.launchpadcontent.net/graphics-drivers/ppa/ubuntu jammy InRelease\n",
            "Hit:15 https://ppa.launchpadcontent.net/ubuntugis/ppa/ubuntu jammy InRelease\n",
            "Fetched 5,200 kB in 4s (1,359 kB/s)\n",
            "Reading package lists... Done\n",
            "update-alternatives: using /usr/bin/python3.7 to provide /usr/bin/python3 (python3) in auto mode\n",
            "/bin/bash: line 1: warning: here-document at line 1 delimited by end-of-file (wanted `2')\n",
            "There is only one alternative in link group python3 (providing /usr/bin/python3): /usr/bin/python3.7\n",
            "Nothing to configure.\n",
            "Reading package lists... Done\n",
            "Building dependency tree... Done\n",
            "Reading state information... Done\n",
            "The following additional packages will be installed:\n",
            "  python3-setuptools python3-wheel\n",
            "Suggested packages:\n",
            "  python-setuptools-doc\n",
            "The following NEW packages will be installed:\n",
            "  python3-pip python3-setuptools python3-wheel\n",
            "0 upgraded, 3 newly installed, 0 to remove and 20 not upgraded.\n",
            "Need to get 1,677 kB of archives.\n",
            "After this operation, 8,965 kB of additional disk space will be used.\n",
            "Get:1 http://archive.ubuntu.com/ubuntu jammy-updates/main amd64 python3-setuptools all 59.6.0-1.2ubuntu0.22.04.1 [339 kB]\n",
            "Get:2 http://archive.ubuntu.com/ubuntu jammy-updates/universe amd64 python3-wheel all 0.37.1-2ubuntu0.22.04.1 [32.0 kB]\n",
            "Get:3 http://archive.ubuntu.com/ubuntu jammy-updates/universe amd64 python3-pip all 22.0.2+dfsg-1ubuntu0.3 [1,305 kB]\n",
            "Fetched 1,677 kB in 2s (785 kB/s)\n",
            "debconf: unable to initialize frontend: Dialog\n",
            "debconf: (No usable dialog-like program is installed, so the dialog based frontend cannot be used. at /usr/share/perl5/Debconf/FrontEnd/Dialog.pm line 78, <> line 3.)\n",
            "debconf: falling back to frontend: Readline\n",
            "debconf: unable to initialize frontend: Readline\n",
            "debconf: (This frontend requires a controlling tty.)\n",
            "debconf: falling back to frontend: Teletype\n",
            "dpkg-preconfigure: unable to re-open stdin: \n",
            "Selecting previously unselected package python3-setuptools.\n",
            "(Reading database ... 121519 files and directories currently installed.)\n",
            "Preparing to unpack .../python3-setuptools_59.6.0-1.2ubuntu0.22.04.1_all.deb ...\n",
            "Unpacking python3-setuptools (59.6.0-1.2ubuntu0.22.04.1) ...\n",
            "Selecting previously unselected package python3-wheel.\n",
            "Preparing to unpack .../python3-wheel_0.37.1-2ubuntu0.22.04.1_all.deb ...\n",
            "Unpacking python3-wheel (0.37.1-2ubuntu0.22.04.1) ...\n",
            "Selecting previously unselected package python3-pip.\n",
            "Preparing to unpack .../python3-pip_22.0.2+dfsg-1ubuntu0.3_all.deb ...\n",
            "Unpacking python3-pip (22.0.2+dfsg-1ubuntu0.3) ...\n",
            "Setting up python3-setuptools (59.6.0-1.2ubuntu0.22.04.1) ...\n",
            "Setting up python3-wheel (0.37.1-2ubuntu0.22.04.1) ...\n",
            "Setting up python3-pip (22.0.2+dfsg-1ubuntu0.3) ...\n",
            "Processing triggers for man-db (2.10.2-1) ...\n",
            "Reading package lists... Done\n",
            "Building dependency tree... Done\n",
            "Reading state information... Done\n",
            "The following additional packages will be installed:\n",
            "  python3.7-lib2to3\n",
            "The following NEW packages will be installed:\n",
            "  python3.7-distutils python3.7-lib2to3\n",
            "0 upgraded, 2 newly installed, 0 to remove and 20 not upgraded.\n",
            "Need to get 313 kB of archives.\n",
            "After this operation, 1,229 kB of additional disk space will be used.\n",
            "Get:1 https://ppa.launchpadcontent.net/deadsnakes/ppa/ubuntu jammy/main amd64 python3.7-lib2to3 all 3.7.17-1+jammy1 [124 kB]\n",
            "Get:2 https://ppa.launchpadcontent.net/deadsnakes/ppa/ubuntu jammy/main amd64 python3.7-distutils all 3.7.17-1+jammy1 [189 kB]\n",
            "Fetched 313 kB in 4s (84.1 kB/s)\n",
            "debconf: unable to initialize frontend: Dialog\n",
            "debconf: (No usable dialog-like program is installed, so the dialog based frontend cannot be used. at /usr/share/perl5/Debconf/FrontEnd/Dialog.pm line 78, <> line 2.)\n",
            "debconf: falling back to frontend: Readline\n",
            "debconf: unable to initialize frontend: Readline\n",
            "debconf: (This frontend requires a controlling tty.)\n",
            "debconf: falling back to frontend: Teletype\n",
            "dpkg-preconfigure: unable to re-open stdin: \n",
            "Selecting previously unselected package python3.7-lib2to3.\n",
            "(Reading database ... 122381 files and directories currently installed.)\n",
            "Preparing to unpack .../python3.7-lib2to3_3.7.17-1+jammy1_all.deb ...\n",
            "Unpacking python3.7-lib2to3 (3.7.17-1+jammy1) ...\n",
            "Selecting previously unselected package python3.7-distutils.\n",
            "Preparing to unpack .../python3.7-distutils_3.7.17-1+jammy1_all.deb ...\n",
            "Unpacking python3.7-distutils (3.7.17-1+jammy1) ...\n",
            "Setting up python3.7-lib2to3 (3.7.17-1+jammy1) ...\n",
            "Setting up python3.7-distutils (3.7.17-1+jammy1) ...\n",
            "Collecting pip\n",
            "  Downloading pip-23.3.1-py3-none-any.whl (2.1 MB)\n",
            "\u001b[2K     \u001b[90m━━━━━━━━━━━━━━━━━━━━━━━━━━━━━━━━━━━━━━━━\u001b[0m \u001b[32m2.1/2.1 MB\u001b[0m \u001b[31m20.6 MB/s\u001b[0m eta \u001b[36m0:00:00\u001b[0m\n",
            "\u001b[?25hInstalling collected packages: pip\n",
            "  Attempting uninstall: pip\n",
            "    Found existing installation: pip 22.0.2\n",
            "    Not uninstalling pip at /usr/lib/python3/dist-packages, outside environment /usr\n",
            "    Can't uninstall 'pip'. No files were found to uninstall.\n",
            "Successfully installed pip-23.3.1\n",
            "\u001b[33mWARNING: Running pip as the 'root' user can result in broken permissions and conflicting behaviour with the system package manager. It is recommended to use a virtual environment instead: https://pip.pypa.io/warnings/venv\u001b[0m\u001b[33m\n",
            "\u001b[0m"
          ]
        }
      ]
    },
    {
      "cell_type": "code",
      "source": [
        "!python -V\n",
        "!pip -V"
      ],
      "metadata": {
        "colab": {
          "base_uri": "https://localhost:8080/"
        },
        "id": "Ye8UOXFig0Pu",
        "outputId": "8edf556a-410c-4093-a8fb-f93dc9bd1523"
      },
      "execution_count": 13,
      "outputs": [
        {
          "output_type": "stream",
          "name": "stdout",
          "text": [
            "Python 3.7.17\n",
            "pip 23.3.1 from /usr/local/lib/python3.7/dist-packages/pip (python 3.7)\n"
          ]
        }
      ]
    },
    {
      "cell_type": "code",
      "source": [
        "!sudo apt install git mercurial libusb-1.0-0-dev\n",
        "!pip install mbed-cli\n",
        "# install python dependency\n",
        "\n",
        "!wget https://raw.githubusercontent.com/ARMmbed/mbed-os/master/requirements.txt\n",
        "!sed -i 's/psutil==5.6.7/ /' requirements.txt\n",
        "!pip install -r requirements.txt"
      ],
      "metadata": {
        "id": "cO3laJEvg2wB"
      },
      "execution_count": null,
      "outputs": []
    },
    {
      "cell_type": "code",
      "source": [
        "!wget -O gcc-arm-none-eabi-9-2020-q2-update-x86_64-linux.tar.bz2 https://developer.arm.com/-/media/Files/downloads/gnu-rm/9-2020q2/gcc-arm-none-eabi-9-2020-q2-update-x86_64-linux.tar.bz2?revision=05382cca-1721-44e1-ae19-1e7c3dc96118&rev=05382cca172144e1ae191e7c3dc96118&hash=FDE675133A099796BD1507A3FF215AC4\n",
        "!sudo tar -jxvf ./gcc-arm-none-eabi-9-2020-q2-update-x86_64-linux.tar.bz2 -C /usr/local/"
      ],
      "metadata": {
        "id": "juoBF6lUg469"
      },
      "execution_count": null,
      "outputs": []
    },
    {
      "cell_type": "code",
      "source": [
        "!pip install psutil\n",
        "!pip install Jinja2\n",
        "!pip install jsonschema\n",
        "!pip install Pillow\n",
        "!pip install numpy"
      ],
      "metadata": {
        "id": "UpGaXxVZg6Po",
        "colab": {
          "base_uri": "https://localhost:8080/"
        },
        "outputId": "424187db-8514-4a2e-b446-36ce4ebc58e5"
      },
      "execution_count": 15,
      "outputs": [
        {
          "output_type": "stream",
          "name": "stdout",
          "text": [
            "Collecting psutil\n",
            "  Downloading psutil-5.9.6-cp36-abi3-manylinux_2_12_x86_64.manylinux2010_x86_64.manylinux_2_17_x86_64.manylinux2014_x86_64.whl.metadata (21 kB)\n",
            "Downloading psutil-5.9.6-cp36-abi3-manylinux_2_12_x86_64.manylinux2010_x86_64.manylinux_2_17_x86_64.manylinux2014_x86_64.whl (283 kB)\n",
            "\u001b[2K   \u001b[90m━━━━━━━━━━━━━━━━━━━━━━━━━━━━━━━━━━━━━━━━\u001b[0m \u001b[32m283.6/283.6 kB\u001b[0m \u001b[31m3.9 MB/s\u001b[0m eta \u001b[36m0:00:00\u001b[0m\n",
            "\u001b[?25hInstalling collected packages: psutil\n",
            "Successfully installed psutil-5.9.6\n",
            "\u001b[33mWARNING: Running pip as the 'root' user can result in broken permissions and conflicting behaviour with the system package manager. It is recommended to use a virtual environment instead: https://pip.pypa.io/warnings/venv\u001b[0m\u001b[33m\n",
            "\u001b[0mRequirement already satisfied: Jinja2 in /usr/local/lib/python3.7/dist-packages (3.1.2)\n",
            "Requirement already satisfied: MarkupSafe>=2.0 in /usr/local/lib/python3.7/dist-packages (from Jinja2) (2.1.3)\n",
            "\u001b[33mWARNING: Running pip as the 'root' user can result in broken permissions and conflicting behaviour with the system package manager. It is recommended to use a virtual environment instead: https://pip.pypa.io/warnings/venv\u001b[0m\u001b[33m\n",
            "\u001b[0mRequirement already satisfied: jsonschema in /usr/local/lib/python3.7/dist-packages (2.6.0)\n",
            "\u001b[33mWARNING: Running pip as the 'root' user can result in broken permissions and conflicting behaviour with the system package manager. It is recommended to use a virtual environment instead: https://pip.pypa.io/warnings/venv\u001b[0m\u001b[33m\n",
            "\u001b[0mCollecting Pillow\n",
            "  Downloading Pillow-9.5.0-cp37-cp37m-manylinux_2_28_x86_64.whl (3.4 MB)\n",
            "\u001b[2K     \u001b[90m━━━━━━━━━━━━━━━━━━━━━━━━━━━━━━━━━━━━━━━━\u001b[0m \u001b[32m3.4/3.4 MB\u001b[0m \u001b[31m9.0 MB/s\u001b[0m eta \u001b[36m0:00:00\u001b[0m\n",
            "\u001b[?25hInstalling collected packages: Pillow\n",
            "Successfully installed Pillow-9.5.0\n",
            "\u001b[33mWARNING: Running pip as the 'root' user can result in broken permissions and conflicting behaviour with the system package manager. It is recommended to use a virtual environment instead: https://pip.pypa.io/warnings/venv\u001b[0m\u001b[33m\n",
            "\u001b[0mCollecting numpy\n",
            "  Downloading numpy-1.21.6-cp37-cp37m-manylinux_2_12_x86_64.manylinux2010_x86_64.whl (15.7 MB)\n",
            "\u001b[2K     \u001b[90m━━━━━━━━━━━━━━━━━━━━━━━━━━━━━━━━━━━━━━━━\u001b[0m \u001b[32m15.7/15.7 MB\u001b[0m \u001b[31m34.4 MB/s\u001b[0m eta \u001b[36m0:00:00\u001b[0m\n",
            "\u001b[?25hInstalling collected packages: numpy\n",
            "Successfully installed numpy-1.21.6\n",
            "\u001b[33mWARNING: Running pip as the 'root' user can result in broken permissions and conflicting behaviour with the system package manager. It is recommended to use a virtual environment instead: https://pip.pypa.io/warnings/venv\u001b[0m\u001b[33m\n",
            "\u001b[0m"
          ]
        }
      ]
    },
    {
      "cell_type": "code",
      "source": [
        "!mbed config -G GCC_ARM_PATH /usr/local/gcc-arm-none-eabi-9-2020-q2-update/bin\n",
        "!mbed config -G TOOLCHAIN GCC_ARM\n",
        "!mbed add mbed-os\n",
        "!mbed deploy"
      ],
      "metadata": {
        "colab": {
          "base_uri": "https://localhost:8080/"
        },
        "id": "US8NYKbHg_kc",
        "outputId": "37714ece-9179-4d3f-f0e6-4bcdabff4ad8"
      },
      "execution_count": 29,
      "outputs": [
        {
          "output_type": "stream",
          "name": "stdout",
          "text": [
            "[mbed] /usr/local/gcc-arm-none-eabi-9-2020-q2-update/bin now set as global GCC_ARM_PATH\n",
            "[mbed] GCC_ARM now set as global TOOLCHAIN\n",
            "[mbed] Working path \"/content/hello_world\" (program)\n",
            "[mbed] WARNING: Program \"hello_world\" in \"/content/hello_world\" does not use source control management.\n",
            "       To fix this you should use \"mbed new .\" in the root of your program.\n",
            "---\n",
            "[mbed] ERROR: Directory \"/content/hello_world/mbed-os\" is not empty. Please ensure that the destination folder is empty.\n",
            "---\n",
            "[mbed] Working path \"/content/hello_world\" (program)\n",
            "[mbed] WARNING: Program \"hello_world\" in \"/content/hello_world\" does not use source control management.\n",
            "       To fix this you should use \"mbed new .\" in the root of your program.\n",
            "---\n",
            "[mbed] Updating library \"mbed-os\" to rev #7c7d20da6527\n",
            "[mbed] Updating library \"tflite-micro/tensorflow/lite/micro/tools/make/downloads/cmsis_nn/Tests/UnitTest/Mbed/mbed-os\" to rev #6a244d7adffc (tags: mbed-os-5.15.5, mbed-os-5.15.5-rc1)\n"
          ]
        }
      ]
    },
    {
      "cell_type": "code",
      "source": [
        "!mbed add /content/hello_world/libtensorflow-microlite.a"
      ],
      "metadata": {
        "colab": {
          "base_uri": "https://localhost:8080/"
        },
        "id": "utW1qVr5e5RX",
        "outputId": "28b3cb1f-3a7c-44f9-9e53-ee2ce4252c10"
      },
      "execution_count": 26,
      "outputs": [
        {
          "output_type": "stream",
          "name": "stdout",
          "text": [
            "[mbed] Working path \"/content/hello_world\" (program)\n",
            "[mbed] WARNING: Program \"hello_world\" in \"/content/hello_world\" does not use source control management.\n",
            "       To fix this you should use \"mbed new .\" in the root of your program.\n",
            "---\n",
            "[mbed] Adding library \"libtensorflow-microlite.a\" from \"/content/hello_world/libtensorflow-microlite.a\" at latest revision in the current branch\n",
            "[mbed] ERROR: Unable to clone repository (/content/hello_world/libtensorflow-microlite.a/)\n",
            "---\n"
          ]
        }
      ]
    },
    {
      "cell_type": "code",
      "source": [
        "!sudo mbed compile"
      ],
      "metadata": {
        "colab": {
          "base_uri": "https://localhost:8080/"
        },
        "id": "ZAoDimA6hCX7",
        "outputId": "739f0b60-d752-4681-e15d-b980e8d63b4b"
      },
      "execution_count": 45,
      "outputs": [
        {
          "output_type": "stream",
          "name": "stdout",
          "text": [
            "[mbed] Working path \"/content/hello_world\" (program)\n",
            "Building project hello_world (NUCLEO_F767ZI, GCC_ARM)\n",
            "Scan: hello_world\n",
            "Compile [100.0%]: hello_world.cc\n",
            "Link: hello_world\n",
            "Elf2Bin: hello_world\n",
            "| Module           |     .text |    .data |     .bss |\n",
            "|------------------|-----------|----------|----------|\n",
            "| [fill]           |  114(-20) |    4(+0) |   12(+0) |\n",
            "| [lib]/c.a        | 12468(+0) | 2472(+0) |   89(+0) |\n",
            "| [lib]/gcc.a      |  3232(+0) |    0(+0) |    0(+0) |\n",
            "| [lib]/m.a        |  3564(+0) |    0(+0) |    0(+0) |\n",
            "| [lib]/misc       |   188(+0) |    4(+0) |   28(+0) |\n",
            "| [lib]/nosys.a    |    32(+0) |    0(+0) |    0(+0) |\n",
            "| hello_world.o    |  564(+20) |    0(+0) |    0(+0) |\n",
            "| mbed-os/drivers  |   102(+0) |    0(+0) |    0(+0) |\n",
            "| mbed-os/hal      |   886(+0) |    4(+0) |   58(+0) |\n",
            "| mbed-os/platform |  4620(+0) |  260(+0) |  295(+0) |\n",
            "| mbed-os/targets  |  8860(+0) |    8(+0) | 1254(+0) |\n",
            "| model_data.o     |     0(+0) |    0(+0) |    0(+0) |\n",
            "| signal/micro     |    50(+0) |    0(+0) |    0(+0) |\n",
            "| tensorflow/lite  | 18692(+0) |    0(+0) |    8(+0) |\n",
            "| Subtotals        | 53372(+0) | 2752(+0) | 1744(+0) |\n",
            "Total Static RAM memory (data + bss): 4496(+0) bytes\n",
            "Total Flash memory (text + data): 56124(+0) bytes\n",
            "\n",
            "Object file energy.o is not unique! It could be made from: signal/src/energy.cc signal/micro/kernels/energy.cc\n",
            "Object file filter_bank.o is not unique! It could be made from: signal/src/filter_bank.cc signal/micro/kernels/filter_bank.cc\n",
            "Object file filter_bank_log.o is not unique! It could be made from: signal/src/filter_bank_log.cc signal/micro/kernels/filter_bank_log.cc\n",
            "Object file filter_bank_spectral_subtraction.o is not unique! It could be made from: signal/micro/kernels/filter_bank_spectral_subtraction.cc signal/src/filter_bank_spectral_subtraction.cc\n",
            "Object file filter_bank_square_root.o is not unique! It could be made from: signal/src/filter_bank_square_root.cc signal/micro/kernels/filter_bank_square_root.cc\n",
            "Object file overlap_add.o is not unique! It could be made from: signal/src/overlap_add.cc signal/micro/kernels/overlap_add.cc\n",
            "Object file window.o is not unique! It could be made from: signal/micro/kernels/window.cc signal/src/window.cc\n",
            "Object file circular_buffer.o is not unique! It could be made from: tensorflow/lite/micro/kernels/circular_buffer.cc signal/src/circular_buffer.cc\n",
            "Object file tensor_utils.o is not unique! It could be made from: tensorflow/lite/kernels/internal/tensor_utils.cc tensorflow/lite/core/api/tensor_utils.cc\n",
            "Object file common.o is not unique! It could be made from: tensorflow/lite/core/c/common.cc tensorflow/lite/kernels/internal/common.cc\n",
            "Object file portable_tensor_utils.o is not unique! It could be made from: tensorflow/lite/kernels/internal/reference/portable_tensor_utils.cc tensorflow/lite/kernels/internal/portable_tensor_utils.cc\n",
            "Object file comparisons.o is not unique! It could be made from: tensorflow/lite/micro/kernels/comparisons.cc tensorflow/lite/kernels/internal/reference/comparisons.cc\n",
            "Object file kernel_util.o is not unique! It could be made from: tensorflow/lite/kernels/kernel_util.cc tensorflow/lite/micro/kernels/kernel_util.cc\n",
            "Image: ./BUILD/NUCLEO_F767ZI/GCC_ARM/hello_world.bin\n"
          ]
        }
      ]
    }
  ]
}